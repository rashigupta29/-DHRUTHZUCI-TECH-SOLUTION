{
 "cells": [
  {
   "cell_type": "code",
   "execution_count": 11,
   "metadata": {},
   "outputs": [
    {
     "name": "stdout",
     "output_type": "stream",
     "text": [
      "true\n",
      "true\n",
      "false\n"
     ]
    }
   ],
   "source": [
    "def valid_parenthesis(input_str):\n",
    "  stack = []\n",
    "  for parenthesis in input_str:\n",
    "    if parenthesis == '(' or paren == '[' or paren == '{':\n",
    "      stack.append(parenthesis)\n",
    "    else:\n",
    "      if not stack:\n",
    "        print(input_str, \"contains invalid parentheses.\")\n",
    "        return\n",
    "      else:\n",
    "        top = stack[-1]\n",
    "        if parenthesis == ')' and top == '(' or \\\n",
    "        parenthesis == ']' and top == '[' or \\\n",
    "        parenthesis == '}' and top == '{':\n",
    "          stack.pop()\n",
    "  if not stack:\n",
    "    print(\"true\")\n",
    "  else:\n",
    "    print(\"false\")\n",
    "\n",
    "input1 = \"()\"\n",
    "input2 = \"()[]{}\"\n",
    "input3 = \"(]\"\n",
    "valid_paren(input1)\n",
    "valid_paren(input2)\n",
    "valid_paren(input3)\n",
    "\n"
   ]
  },
  {
   "cell_type": "code",
   "execution_count": null,
   "metadata": {},
   "outputs": [],
   "source": []
  }
 ],
 "metadata": {
  "kernelspec": {
   "display_name": "Python 3",
   "language": "python",
   "name": "python3"
  },
  "language_info": {
   "codemirror_mode": {
    "name": "ipython",
    "version": 3
   },
   "file_extension": ".py",
   "mimetype": "text/x-python",
   "name": "python",
   "nbconvert_exporter": "python",
   "pygments_lexer": "ipython3",
   "version": "3.7.4"
  }
 },
 "nbformat": 4,
 "nbformat_minor": 2
}
